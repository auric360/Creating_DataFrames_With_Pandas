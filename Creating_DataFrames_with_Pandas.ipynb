{
 "cells": [
  {
   "cell_type": "markdown",
   "id": "42f69949-06c4-4dde-8735-fcc1ecdf2a88",
   "metadata": {},
   "source": [
    "1. Creating a Pandas DataFrame from Scratch"
   ]
  },
  {
   "cell_type": "code",
   "execution_count": 2,
   "id": "e49e5d32-1c34-4c8d-b0c9-484412186284",
   "metadata": {},
   "outputs": [],
   "source": [
    "# install pandas\n",
    "!pip install pandas --quiet"
   ]
  },
  {
   "cell_type": "code",
   "execution_count": 3,
   "id": "4d16f60f-5d58-4da8-b4fc-f01cc728ac2b",
   "metadata": {},
   "outputs": [],
   "source": [
    "# Step 1 - Import Pandas\n",
    "import pandas as pd"
   ]
  },
  {
   "cell_type": "code",
   "execution_count": 4,
   "id": "f6da1ec1-9439-4ec0-9de0-d3fc806492c1",
   "metadata": {},
   "outputs": [],
   "source": [
    "# Create a DataFrame from a Dictionary of Lists\n",
    "data = {\n",
    "    'Name': ['Ato', 'Melo', 'Mike'],\n",
    "    'Age': [12, 17, 10],\n",
    "    'City': ['Accra', 'Lagos', 'Lome']\n",
    "}\n",
    "\n",
    "# Creating the DataFrame\n",
    "df = pd.DataFrame(data)"
   ]
  },
  {
   "cell_type": "code",
   "execution_count": 5,
   "id": "a6873346-4bef-4ea9-a1e8-553d661b4892",
   "metadata": {},
   "outputs": [
    {
     "data": {
      "text/html": [
       "<div>\n",
       "<style scoped>\n",
       "    .dataframe tbody tr th:only-of-type {\n",
       "        vertical-align: middle;\n",
       "    }\n",
       "\n",
       "    .dataframe tbody tr th {\n",
       "        vertical-align: top;\n",
       "    }\n",
       "\n",
       "    .dataframe thead th {\n",
       "        text-align: right;\n",
       "    }\n",
       "</style>\n",
       "<table border=\"1\" class=\"dataframe\">\n",
       "  <thead>\n",
       "    <tr style=\"text-align: right;\">\n",
       "      <th></th>\n",
       "      <th>Name</th>\n",
       "      <th>Age</th>\n",
       "      <th>City</th>\n",
       "    </tr>\n",
       "  </thead>\n",
       "  <tbody>\n",
       "    <tr>\n",
       "      <th>0</th>\n",
       "      <td>Ato</td>\n",
       "      <td>12</td>\n",
       "      <td>Accra</td>\n",
       "    </tr>\n",
       "    <tr>\n",
       "      <th>1</th>\n",
       "      <td>Melo</td>\n",
       "      <td>17</td>\n",
       "      <td>Lagos</td>\n",
       "    </tr>\n",
       "    <tr>\n",
       "      <th>2</th>\n",
       "      <td>Mike</td>\n",
       "      <td>10</td>\n",
       "      <td>Lome</td>\n",
       "    </tr>\n",
       "  </tbody>\n",
       "</table>\n",
       "</div>"
      ],
      "text/plain": [
       "   Name  Age   City\n",
       "0   Ato   12  Accra\n",
       "1  Melo   17  Lagos\n",
       "2  Mike   10   Lome"
      ]
     },
     "execution_count": 5,
     "metadata": {},
     "output_type": "execute_result"
    }
   ],
   "source": [
    "df"
   ]
  },
  {
   "cell_type": "markdown",
   "id": "e1d2b279-0cb9-42e5-92c4-5feb1d95f6a5",
   "metadata": {},
   "source": [
    "2. Creating a DataFrame From a List of Dictionaries"
   ]
  },
  {
   "cell_type": "code",
   "execution_count": 11,
   "id": "60ae3dc7-669c-44cc-bdab-f69da563fbd3",
   "metadata": {},
   "outputs": [],
   "source": [
    "# Creating a DataFrame from a List of Dictionaries\n",
    "data = [\n",
    "    {'Name': 'Kay', 'Age': 30},\n",
    "    {'Name': 'Tee', 'Age': 25}\n",
    "]\n",
    "\n",
    "df = pd.DataFrame(data)"
   ]
  },
  {
   "cell_type": "code",
   "execution_count": 12,
   "id": "5e31ae24-937a-468e-90e3-25ccf389468d",
   "metadata": {},
   "outputs": [
    {
     "data": {
      "text/html": [
       "<div>\n",
       "<style scoped>\n",
       "    .dataframe tbody tr th:only-of-type {\n",
       "        vertical-align: middle;\n",
       "    }\n",
       "\n",
       "    .dataframe tbody tr th {\n",
       "        vertical-align: top;\n",
       "    }\n",
       "\n",
       "    .dataframe thead th {\n",
       "        text-align: right;\n",
       "    }\n",
       "</style>\n",
       "<table border=\"1\" class=\"dataframe\">\n",
       "  <thead>\n",
       "    <tr style=\"text-align: right;\">\n",
       "      <th></th>\n",
       "      <th>Name</th>\n",
       "      <th>Age</th>\n",
       "    </tr>\n",
       "  </thead>\n",
       "  <tbody>\n",
       "    <tr>\n",
       "      <th>0</th>\n",
       "      <td>Kay</td>\n",
       "      <td>30</td>\n",
       "    </tr>\n",
       "    <tr>\n",
       "      <th>1</th>\n",
       "      <td>Tee</td>\n",
       "      <td>25</td>\n",
       "    </tr>\n",
       "  </tbody>\n",
       "</table>\n",
       "</div>"
      ],
      "text/plain": [
       "  Name  Age\n",
       "0  Kay   30\n",
       "1  Tee   25"
      ]
     },
     "execution_count": 12,
     "metadata": {},
     "output_type": "execute_result"
    }
   ],
   "source": [
    "df"
   ]
  },
  {
   "cell_type": "markdown",
   "id": "51082281-aca2-441a-bd0b-886c1e81a72a",
   "metadata": {},
   "source": [
    "3. Creating a DataFrame with Custom Index"
   ]
  },
  {
   "cell_type": "code",
   "execution_count": 13,
   "id": "7b22491f-e2d6-4cf1-951b-e1498a0ad29a",
   "metadata": {},
   "outputs": [],
   "source": [
    "# Creating a DataFrame with custom index\n",
    "data = [\n",
    "    {'Name': 'Kay', 'Age': 30},\n",
    "    {'Name': 'Tee', 'Age': 25}\n",
    "]\n",
    "\n",
    "df = pd.DataFrame(data, index=['a', 'b'])"
   ]
  },
  {
   "cell_type": "code",
   "execution_count": 14,
   "id": "50f89ddf-2436-49f9-a3a0-2afaf6b09305",
   "metadata": {},
   "outputs": [
    {
     "data": {
      "text/html": [
       "<div>\n",
       "<style scoped>\n",
       "    .dataframe tbody tr th:only-of-type {\n",
       "        vertical-align: middle;\n",
       "    }\n",
       "\n",
       "    .dataframe tbody tr th {\n",
       "        vertical-align: top;\n",
       "    }\n",
       "\n",
       "    .dataframe thead th {\n",
       "        text-align: right;\n",
       "    }\n",
       "</style>\n",
       "<table border=\"1\" class=\"dataframe\">\n",
       "  <thead>\n",
       "    <tr style=\"text-align: right;\">\n",
       "      <th></th>\n",
       "      <th>Name</th>\n",
       "      <th>Age</th>\n",
       "    </tr>\n",
       "  </thead>\n",
       "  <tbody>\n",
       "    <tr>\n",
       "      <th>a</th>\n",
       "      <td>Kay</td>\n",
       "      <td>30</td>\n",
       "    </tr>\n",
       "    <tr>\n",
       "      <th>b</th>\n",
       "      <td>Tee</td>\n",
       "      <td>25</td>\n",
       "    </tr>\n",
       "  </tbody>\n",
       "</table>\n",
       "</div>"
      ],
      "text/plain": [
       "  Name  Age\n",
       "a  Kay   30\n",
       "b  Tee   25"
      ]
     },
     "execution_count": 14,
     "metadata": {},
     "output_type": "execute_result"
    }
   ],
   "source": [
    "df"
   ]
  },
  {
   "cell_type": "markdown",
   "id": "bd01bcc0-5b11-486e-b6a1-8c10771e79bc",
   "metadata": {},
   "source": [
    "4. Creating a DataFrame From a Dictionary of Series"
   ]
  },
  {
   "cell_type": "code",
   "execution_count": 15,
   "id": "844fd3b1-bd15-494a-8de6-446ca1f7f634",
   "metadata": {},
   "outputs": [],
   "source": [
    "data = {\n",
    "    'Name': pd.Series(['Ike', 'Kay'], index=[0, 1]),\n",
    "    'Age': pd.Series([25, 30], index=[0, 1])\n",
    "}\n",
    "\n",
    "df = pd.DataFrame(data)"
   ]
  },
  {
   "cell_type": "code",
   "execution_count": 16,
   "id": "64630145-f4dc-48d9-99eb-e5aec0f8741a",
   "metadata": {},
   "outputs": [
    {
     "data": {
      "text/html": [
       "<div>\n",
       "<style scoped>\n",
       "    .dataframe tbody tr th:only-of-type {\n",
       "        vertical-align: middle;\n",
       "    }\n",
       "\n",
       "    .dataframe tbody tr th {\n",
       "        vertical-align: top;\n",
       "    }\n",
       "\n",
       "    .dataframe thead th {\n",
       "        text-align: right;\n",
       "    }\n",
       "</style>\n",
       "<table border=\"1\" class=\"dataframe\">\n",
       "  <thead>\n",
       "    <tr style=\"text-align: right;\">\n",
       "      <th></th>\n",
       "      <th>Name</th>\n",
       "      <th>Age</th>\n",
       "    </tr>\n",
       "  </thead>\n",
       "  <tbody>\n",
       "    <tr>\n",
       "      <th>0</th>\n",
       "      <td>Ike</td>\n",
       "      <td>25</td>\n",
       "    </tr>\n",
       "    <tr>\n",
       "      <th>1</th>\n",
       "      <td>Kay</td>\n",
       "      <td>30</td>\n",
       "    </tr>\n",
       "  </tbody>\n",
       "</table>\n",
       "</div>"
      ],
      "text/plain": [
       "  Name  Age\n",
       "0  Ike   25\n",
       "1  Kay   30"
      ]
     },
     "execution_count": 16,
     "metadata": {},
     "output_type": "execute_result"
    }
   ],
   "source": [
    "df"
   ]
  },
  {
   "cell_type": "markdown",
   "id": "e0bb4df1-3ec6-48ae-9b85-bf9d36fd04d9",
   "metadata": {},
   "source": [
    "5. Creating a DataFrame From Lists (with column names)"
   ]
  },
  {
   "cell_type": "code",
   "execution_count": 19,
   "id": "865ca185-7618-4119-ba62-e0b098b7019b",
   "metadata": {},
   "outputs": [],
   "source": [
    "# Creating a DataFrame from a List of Lists\n",
    "\n",
    "data = [\n",
    "    ['Akose', 20],\n",
    "    ['BB', 28]\n",
    "]\n",
    "\n",
    "df = pd.DataFrame(data, columns=['Name', 'Age'])"
   ]
  },
  {
   "cell_type": "code",
   "execution_count": 20,
   "id": "c9fd071d-6a48-4ae6-b63d-155ae9dc20b9",
   "metadata": {},
   "outputs": [
    {
     "data": {
      "text/html": [
       "<div>\n",
       "<style scoped>\n",
       "    .dataframe tbody tr th:only-of-type {\n",
       "        vertical-align: middle;\n",
       "    }\n",
       "\n",
       "    .dataframe tbody tr th {\n",
       "        vertical-align: top;\n",
       "    }\n",
       "\n",
       "    .dataframe thead th {\n",
       "        text-align: right;\n",
       "    }\n",
       "</style>\n",
       "<table border=\"1\" class=\"dataframe\">\n",
       "  <thead>\n",
       "    <tr style=\"text-align: right;\">\n",
       "      <th></th>\n",
       "      <th>Name</th>\n",
       "      <th>Age</th>\n",
       "    </tr>\n",
       "  </thead>\n",
       "  <tbody>\n",
       "    <tr>\n",
       "      <th>0</th>\n",
       "      <td>Akose</td>\n",
       "      <td>20</td>\n",
       "    </tr>\n",
       "    <tr>\n",
       "      <th>1</th>\n",
       "      <td>BB</td>\n",
       "      <td>28</td>\n",
       "    </tr>\n",
       "  </tbody>\n",
       "</table>\n",
       "</div>"
      ],
      "text/plain": [
       "    Name  Age\n",
       "0  Akose   20\n",
       "1     BB   28"
      ]
     },
     "execution_count": 20,
     "metadata": {},
     "output_type": "execute_result"
    }
   ],
   "source": [
    "df"
   ]
  },
  {
   "cell_type": "markdown",
   "id": "2844267a-d063-44a7-a881-1cf3602c4db9",
   "metadata": {},
   "source": [
    "6. Reading Specific Columns"
   ]
  },
  {
   "cell_type": "code",
   "execution_count": 22,
   "id": "58416b41-4f63-47d5-8a5c-9d35fa506086",
   "metadata": {},
   "outputs": [
    {
     "data": {
      "text/plain": [
       "0    Akose\n",
       "1       BB\n",
       "Name: Name, dtype: object"
      ]
     },
     "execution_count": 22,
     "metadata": {},
     "output_type": "execute_result"
    }
   ],
   "source": [
    "df['Name']"
   ]
  },
  {
   "cell_type": "code",
   "execution_count": 23,
   "id": "196be874-1b9b-44b4-b551-bb7eb691a12c",
   "metadata": {},
   "outputs": [
    {
     "data": {
      "text/html": [
       "<div>\n",
       "<style scoped>\n",
       "    .dataframe tbody tr th:only-of-type {\n",
       "        vertical-align: middle;\n",
       "    }\n",
       "\n",
       "    .dataframe tbody tr th {\n",
       "        vertical-align: top;\n",
       "    }\n",
       "\n",
       "    .dataframe thead th {\n",
       "        text-align: right;\n",
       "    }\n",
       "</style>\n",
       "<table border=\"1\" class=\"dataframe\">\n",
       "  <thead>\n",
       "    <tr style=\"text-align: right;\">\n",
       "      <th></th>\n",
       "      <th>Name</th>\n",
       "      <th>Age</th>\n",
       "    </tr>\n",
       "  </thead>\n",
       "  <tbody>\n",
       "    <tr>\n",
       "      <th>0</th>\n",
       "      <td>Akose</td>\n",
       "      <td>20</td>\n",
       "    </tr>\n",
       "    <tr>\n",
       "      <th>1</th>\n",
       "      <td>BB</td>\n",
       "      <td>28</td>\n",
       "    </tr>\n",
       "  </tbody>\n",
       "</table>\n",
       "</div>"
      ],
      "text/plain": [
       "    Name  Age\n",
       "0  Akose   20\n",
       "1     BB   28"
      ]
     },
     "execution_count": 23,
     "metadata": {},
     "output_type": "execute_result"
    }
   ],
   "source": [
    "df[['Name', 'Age']]"
   ]
  },
  {
   "cell_type": "code",
   "execution_count": 25,
   "id": "eab28c03-9b1f-41d4-ae4c-a2458e3b707d",
   "metadata": {},
   "outputs": [
    {
     "data": {
      "text/plain": [
       "0    Akose\n",
       "1       BB\n",
       "Name: Name, dtype: object"
      ]
     },
     "execution_count": 25,
     "metadata": {},
     "output_type": "execute_result"
    }
   ],
   "source": [
    "df.Name"
   ]
  },
  {
   "cell_type": "code",
   "execution_count": 26,
   "id": "1e502bb0-698e-4a7d-a2d8-10aef4e8dad3",
   "metadata": {},
   "outputs": [
    {
     "data": {
      "text/html": [
       "<div>\n",
       "<style scoped>\n",
       "    .dataframe tbody tr th:only-of-type {\n",
       "        vertical-align: middle;\n",
       "    }\n",
       "\n",
       "    .dataframe tbody tr th {\n",
       "        vertical-align: top;\n",
       "    }\n",
       "\n",
       "    .dataframe thead th {\n",
       "        text-align: right;\n",
       "    }\n",
       "</style>\n",
       "<table border=\"1\" class=\"dataframe\">\n",
       "  <thead>\n",
       "    <tr style=\"text-align: right;\">\n",
       "      <th></th>\n",
       "      <th>Age</th>\n",
       "    </tr>\n",
       "  </thead>\n",
       "  <tbody>\n",
       "    <tr>\n",
       "      <th>count</th>\n",
       "      <td>2.000000</td>\n",
       "    </tr>\n",
       "    <tr>\n",
       "      <th>mean</th>\n",
       "      <td>24.000000</td>\n",
       "    </tr>\n",
       "    <tr>\n",
       "      <th>std</th>\n",
       "      <td>5.656854</td>\n",
       "    </tr>\n",
       "    <tr>\n",
       "      <th>min</th>\n",
       "      <td>20.000000</td>\n",
       "    </tr>\n",
       "    <tr>\n",
       "      <th>25%</th>\n",
       "      <td>22.000000</td>\n",
       "    </tr>\n",
       "    <tr>\n",
       "      <th>50%</th>\n",
       "      <td>24.000000</td>\n",
       "    </tr>\n",
       "    <tr>\n",
       "      <th>75%</th>\n",
       "      <td>26.000000</td>\n",
       "    </tr>\n",
       "    <tr>\n",
       "      <th>max</th>\n",
       "      <td>28.000000</td>\n",
       "    </tr>\n",
       "  </tbody>\n",
       "</table>\n",
       "</div>"
      ],
      "text/plain": [
       "             Age\n",
       "count   2.000000\n",
       "mean   24.000000\n",
       "std     5.656854\n",
       "min    20.000000\n",
       "25%    22.000000\n",
       "50%    24.000000\n",
       "75%    26.000000\n",
       "max    28.000000"
      ]
     },
     "execution_count": 26,
     "metadata": {},
     "output_type": "execute_result"
    }
   ],
   "source": [
    "df.describe()"
   ]
  },
  {
   "cell_type": "markdown",
   "id": "e190060f-2d12-4102-bc42-dcef15fc5b47",
   "metadata": {},
   "source": [
    "7. Accessing Rows"
   ]
  },
  {
   "cell_type": "code",
   "execution_count": 29,
   "id": "00dcdf5b-9a21-4869-8df0-7662bdc62e50",
   "metadata": {},
   "outputs": [
    {
     "data": {
      "text/plain": [
       "Name    Akose\n",
       "Age        20\n",
       "Name: 0, dtype: object"
      ]
     },
     "execution_count": 29,
     "metadata": {},
     "output_type": "execute_result"
    }
   ],
   "source": [
    "# By Label (if default index)\n",
    "\n",
    "df.loc[0]"
   ]
  },
  {
   "cell_type": "code",
   "execution_count": 28,
   "id": "0f60bdd7-f265-41f8-82dd-c54fed567206",
   "metadata": {},
   "outputs": [
    {
     "data": {
      "text/plain": [
       "Name    BB\n",
       "Age     28\n",
       "Name: 1, dtype: object"
      ]
     },
     "execution_count": 28,
     "metadata": {},
     "output_type": "execute_result"
    }
   ],
   "source": [
    "# By Position\n",
    "\n",
    "df.iloc[1]"
   ]
  },
  {
   "cell_type": "markdown",
   "id": "edff4cd4-c875-4c2c-8092-2dc970bf4d8b",
   "metadata": {},
   "source": [
    "8. Filetering Rows"
   ]
  },
  {
   "cell_type": "code",
   "execution_count": 31,
   "id": "bb146799-23bc-4da9-956a-c52a9b1f3559",
   "metadata": {},
   "outputs": [
    {
     "data": {
      "text/html": [
       "<div>\n",
       "<style scoped>\n",
       "    .dataframe tbody tr th:only-of-type {\n",
       "        vertical-align: middle;\n",
       "    }\n",
       "\n",
       "    .dataframe tbody tr th {\n",
       "        vertical-align: top;\n",
       "    }\n",
       "\n",
       "    .dataframe thead th {\n",
       "        text-align: right;\n",
       "    }\n",
       "</style>\n",
       "<table border=\"1\" class=\"dataframe\">\n",
       "  <thead>\n",
       "    <tr style=\"text-align: right;\">\n",
       "      <th></th>\n",
       "      <th>Name</th>\n",
       "      <th>Age</th>\n",
       "    </tr>\n",
       "  </thead>\n",
       "  <tbody>\n",
       "    <tr>\n",
       "      <th>1</th>\n",
       "      <td>BB</td>\n",
       "      <td>28</td>\n",
       "    </tr>\n",
       "  </tbody>\n",
       "</table>\n",
       "</div>"
      ],
      "text/plain": [
       "  Name  Age\n",
       "1   BB   28"
      ]
     },
     "execution_count": 31,
     "metadata": {},
     "output_type": "execute_result"
    }
   ],
   "source": [
    "# Filtering by Row\n",
    "\n",
    "df[df['Age'] > 26]"
   ]
  },
  {
   "cell_type": "markdown",
   "id": "007443f7-afbd-4688-a8b6-cad110f9a58a",
   "metadata": {},
   "source": [
    "9. . Filter Rows by String"
   ]
  },
  {
   "cell_type": "code",
   "execution_count": 35,
   "id": "30b4e3cc-835a-4e9c-af70-322f3996222f",
   "metadata": {},
   "outputs": [
    {
     "data": {
      "text/html": [
       "<div>\n",
       "<style scoped>\n",
       "    .dataframe tbody tr th:only-of-type {\n",
       "        vertical-align: middle;\n",
       "    }\n",
       "\n",
       "    .dataframe tbody tr th {\n",
       "        vertical-align: top;\n",
       "    }\n",
       "\n",
       "    .dataframe thead th {\n",
       "        text-align: right;\n",
       "    }\n",
       "</style>\n",
       "<table border=\"1\" class=\"dataframe\">\n",
       "  <thead>\n",
       "    <tr style=\"text-align: right;\">\n",
       "      <th></th>\n",
       "      <th>Name</th>\n",
       "      <th>Age</th>\n",
       "    </tr>\n",
       "  </thead>\n",
       "  <tbody>\n",
       "    <tr>\n",
       "      <th>1</th>\n",
       "      <td>BB</td>\n",
       "      <td>28</td>\n",
       "    </tr>\n",
       "  </tbody>\n",
       "</table>\n",
       "</div>"
      ],
      "text/plain": [
       "  Name  Age\n",
       "1   BB   28"
      ]
     },
     "execution_count": 35,
     "metadata": {},
     "output_type": "execute_result"
    }
   ],
   "source": [
    "# Rows where Name is 'BB'\n",
    "\n",
    "df[df['Name'] == 'BB']"
   ]
  },
  {
   "cell_type": "markdown",
   "id": "eabc7e64-5adb-4617-b72e-3e98e67c7178",
   "metadata": {},
   "source": [
    "10. . Filtering Rows with Multiple Conditions"
   ]
  },
  {
   "cell_type": "code",
   "execution_count": 36,
   "id": "bf80d036-c0b0-4685-b857-1b65a3432463",
   "metadata": {},
   "outputs": [
    {
     "data": {
      "text/html": [
       "<div>\n",
       "<style scoped>\n",
       "    .dataframe tbody tr th:only-of-type {\n",
       "        vertical-align: middle;\n",
       "    }\n",
       "\n",
       "    .dataframe tbody tr th {\n",
       "        vertical-align: top;\n",
       "    }\n",
       "\n",
       "    .dataframe thead th {\n",
       "        text-align: right;\n",
       "    }\n",
       "</style>\n",
       "<table border=\"1\" class=\"dataframe\">\n",
       "  <thead>\n",
       "    <tr style=\"text-align: right;\">\n",
       "      <th></th>\n",
       "      <th>Name</th>\n",
       "      <th>Age</th>\n",
       "    </tr>\n",
       "  </thead>\n",
       "  <tbody>\n",
       "    <tr>\n",
       "      <th>1</th>\n",
       "      <td>BB</td>\n",
       "      <td>28</td>\n",
       "    </tr>\n",
       "  </tbody>\n",
       "</table>\n",
       "</div>"
      ],
      "text/plain": [
       "  Name  Age\n",
       "1   BB   28"
      ]
     },
     "execution_count": 36,
     "metadata": {},
     "output_type": "execute_result"
    }
   ],
   "source": [
    "# Filter Rows with Multiple Conditions (by 'Age' and 'Name')\n",
    "\n",
    "df[(df['Age'] > 26) & (df['Name'] == 'BB')]"
   ]
  },
  {
   "cell_type": "markdown",
   "id": "c48bec29-a99f-4a00-9874-b02338f8b598",
   "metadata": {},
   "source": [
    "11. Plotting a Histogram of a Column"
   ]
  },
  {
   "cell_type": "code",
   "execution_count": 41,
   "id": "7c6b9291-da82-4e41-9baa-43c715daeb1f",
   "metadata": {},
   "outputs": [
    {
     "data": {
      "text/plain": [
       "<Axes: title={'center': 'Score Distribution'}, ylabel='Frequency'>"
      ]
     },
     "execution_count": 41,
     "metadata": {},
     "output_type": "execute_result"
    },
    {
     "data": {
      "image/png": "[encoded data removed]",
      "text/plain": [
       "<Figure size 640x480 with 1 Axes>"
      ]
     },
     "metadata": {},
     "output_type": "display_data"
    }
   ],
   "source": [
    "# Example DataFrame\n",
    "\n",
    "df = pd.DataFrame({\n",
    "    'Scores': [55, 62, 78, 99, 45, 81, 73, 68, 91, 52, 87, 79, 65, 96, 48, 83, 71, 58, 94, 69, 77, 89, 51, 66, 82, 97, 42, 75, 61, \n",
    "               88, 93, 59, 70, 84, 63, 98, 49, 76, 67, 80, 53, 90, 72, 64, 86, 95, 41, 74, 56, 99, 33, 78, 51, 92, 67, 44, 89, 21, \n",
    "               96, 58, 71, 39, 85, 62, 99, 47, 75, 30, 81, 55, 94, 69, 40, 87, 28, 91, 53, 77, 36, 83, 60, 98, 43, 70, 31, 88, 57, \n",
    "               95, 65, 49, 80, 25, 93, 59, 73, 37, 86, 64, 97, 46, 53]\n",
    "})\n",
    "\n",
    "# Creating histogram directly\n",
    "\n",
    "df['Scores'].plot(kind=\"hist\", bins=5, title=\"Score Distribution\")"
   ]
  },
  {
   "cell_type": "code",
   "execution_count": null,
   "id": "e48d431b-abc8-47da-b88d-5ccf9b988093",
   "metadata": {},
   "outputs": [],
   "source": []
  }
 ],
 "metadata": {
  "kernelspec": {
   "display_name": "Python 3 (ipykernel)",
   "language": "python",
   "name": "python3"
  },
  "language_info": {
   "codemirror_mode": {
    "name": "ipython",
    "version": 3
   },
   "file_extension": ".py",
   "mimetype": "text/x-python",
   "name": "python",
   "nbconvert_exporter": "python",
   "pygments_lexer": "ipython3",
   "version": "3.12.5"
  }
 },
 "nbformat": 4,
 "nbformat_minor": 5
}
